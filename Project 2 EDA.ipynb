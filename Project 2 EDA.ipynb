{
 "cells": [
  {
   "cell_type": "markdown",
   "id": "d512bef7-2e20-4aa3-a712-ff2b612779a9",
   "metadata": {
    "editable": true,
    "slideshow": {
     "slide_type": ""
    },
    "tags": []
   },
   "source": [
    "**Operations Research in Action &#x25aa; Fall 2024**"
   ]
  },
  {
   "cell_type": "markdown",
   "id": "ea6bc8f1-0640-4143-86bf-ae71e4523087",
   "metadata": {
    "editable": true,
    "slideshow": {
     "slide_type": ""
    },
    "tags": []
   },
   "source": [
    "# Project 2 &ndash; Exploratory Data Analysis"
   ]
  },
  {
   "cell_type": "markdown",
   "id": "b9f2b7a0-ba8c-46c4-b032-ff5205d3bbad",
   "metadata": {
    "editable": true,
    "slideshow": {
     "slide_type": ""
    },
    "tags": []
   },
   "source": [
    "Before we begin modeling, we need to understand the data that we have, conduct an exploratory analysis to understand the underlying relationships, and if necessary, wrangle the data into the right form for modeling."
   ]
  },
  {
   "cell_type": "markdown",
   "id": "9780409d-56ea-4e54-9cf7-7d78fa0deca9",
   "metadata": {
    "editable": true,
    "slideshow": {
     "slide_type": ""
    },
    "tags": []
   },
   "source": [
    "## Import the data "
   ]
  },
  {
   "cell_type": "markdown",
   "id": "6ab0f3bf-1592-4830-ba7e-8e4be8ef5e29",
   "metadata": {
    "editable": true,
    "slideshow": {
     "slide_type": ""
    },
    "tags": []
   },
   "source": [
    "In the same folder as this notebook, there are three data sets, `data/player_data.csv`, `data/stint_data_wide.csv`, and `data/stint_data_long.csv`. Import each data set into a Pandas DataFrame. "
   ]
  },
  {
   "cell_type": "code",
   "execution_count": null,
   "id": "9d3bc978-61dd-4fc7-b660-53ebe457b48b",
   "metadata": {},
   "outputs": [],
   "source": []
  },
  {
   "cell_type": "code",
   "execution_count": 1,
   "id": "09ce3e85-e0f8-43d0-b382-3065d58b9e9e",
   "metadata": {
    "editable": true,
    "slideshow": {
     "slide_type": ""
    },
    "tags": [
     "solution"
    ]
   },
   "outputs": [],
   "source": [
    "# Solution\n",
    "import pandas as pd\n",
    "import numpy as np\n",
    "import matplotlib.pyplot as plt\n",
    "\n",
    "player_df = pd.read_csv('data/player_data.csv')\n",
    "stint_wide_df = pd.read_csv('data/stint_data_wide.csv')\n",
    "stint_long_df = pd.read_csv('data/stint_data_long.csv')"
   ]
  },
  {
   "cell_type": "markdown",
   "id": "5a731657-dbad-4812-b295-d1e146790b45",
   "metadata": {
    "editable": true,
    "slideshow": {
     "slide_type": ""
    },
    "tags": []
   },
   "source": [
    "## Describe the data"
   ]
  },
  {
   "cell_type": "markdown",
   "id": "cd20121c-341c-4c17-9d7e-fd241ae69486",
   "metadata": {
    "editable": true,
    "slideshow": {
     "slide_type": ""
    },
    "tags": []
   },
   "source": [
    "Recall that the data section of your report should describe each data set. For tabular data, this includes the size of the data, as well as what each row and column represents. The data section also should report basic summary statistics for key variables of interest. \n",
    "\n",
    "Examine the three data sets you imported above. How big is the data set? What does each row represent? For each row, what information does the data set contain? Compute basic summary statistics (e.g., mean, standard deviation, minimum, maximum) for some key variables of interest."
   ]
  },
  {
   "cell_type": "code",
   "execution_count": null,
   "id": "2a0e920f-2f46-41df-8f2c-c505f2cc55bc",
   "metadata": {},
   "outputs": [],
   "source": []
  },
  {
   "cell_type": "code",
   "execution_count": 2,
   "id": "97e1b7aa-4367-4a21-9bfd-56ebed5e0d8c",
   "metadata": {
    "editable": true,
    "slideshow": {
     "slide_type": ""
    },
    "tags": [
     "solution"
    ]
   },
   "outputs": [
    {
     "data": {
      "text/html": [
       "<div>\n",
       "<style scoped>\n",
       "    .dataframe tbody tr th:only-of-type {\n",
       "        vertical-align: middle;\n",
       "    }\n",
       "\n",
       "    .dataframe tbody tr th {\n",
       "        vertical-align: top;\n",
       "    }\n",
       "\n",
       "    .dataframe thead th {\n",
       "        text-align: right;\n",
       "    }\n",
       "</style>\n",
       "<table border=\"1\" class=\"dataframe\">\n",
       "  <thead>\n",
       "    <tr style=\"text-align: right;\">\n",
       "      <th></th>\n",
       "      <th>player</th>\n",
       "      <th>rating</th>\n",
       "    </tr>\n",
       "  </thead>\n",
       "  <tbody>\n",
       "    <tr>\n",
       "      <th>0</th>\n",
       "      <td>USA_p1</td>\n",
       "      <td>3.0</td>\n",
       "    </tr>\n",
       "    <tr>\n",
       "      <th>1</th>\n",
       "      <td>USA_p2</td>\n",
       "      <td>3.0</td>\n",
       "    </tr>\n",
       "    <tr>\n",
       "      <th>2</th>\n",
       "      <td>USA_p3</td>\n",
       "      <td>3.5</td>\n",
       "    </tr>\n",
       "    <tr>\n",
       "      <th>3</th>\n",
       "      <td>USA_p4</td>\n",
       "      <td>0.0</td>\n",
       "    </tr>\n",
       "    <tr>\n",
       "      <th>4</th>\n",
       "      <td>USA_p5</td>\n",
       "      <td>2.0</td>\n",
       "    </tr>\n",
       "  </tbody>\n",
       "</table>\n",
       "</div>"
      ],
      "text/plain": [
       "   player  rating\n",
       "0  USA_p1     3.0\n",
       "1  USA_p2     3.0\n",
       "2  USA_p3     3.5\n",
       "3  USA_p4     0.0\n",
       "4  USA_p5     2.0"
      ]
     },
     "execution_count": 2,
     "metadata": {},
     "output_type": "execute_result"
    }
   ],
   "source": [
    "# Solution\n",
    "player_df.head()"
   ]
  },
  {
   "cell_type": "code",
   "execution_count": 3,
   "id": "c3937851-c722-48ae-9906-c225016e131c",
   "metadata": {
    "editable": true,
    "slideshow": {
     "slide_type": ""
    },
    "tags": [
     "solution"
    ]
   },
   "outputs": [
    {
     "data": {
      "text/html": [
       "<div>\n",
       "<style scoped>\n",
       "    .dataframe tbody tr th:only-of-type {\n",
       "        vertical-align: middle;\n",
       "    }\n",
       "\n",
       "    .dataframe tbody tr th {\n",
       "        vertical-align: top;\n",
       "    }\n",
       "\n",
       "    .dataframe thead th {\n",
       "        text-align: right;\n",
       "    }\n",
       "</style>\n",
       "<table border=\"1\" class=\"dataframe\">\n",
       "  <thead>\n",
       "    <tr style=\"text-align: right;\">\n",
       "      <th></th>\n",
       "      <th>rating</th>\n",
       "    </tr>\n",
       "  </thead>\n",
       "  <tbody>\n",
       "    <tr>\n",
       "      <th>count</th>\n",
       "      <td>144.000000</td>\n",
       "    </tr>\n",
       "    <tr>\n",
       "      <th>mean</th>\n",
       "      <td>1.979167</td>\n",
       "    </tr>\n",
       "    <tr>\n",
       "      <th>std</th>\n",
       "      <td>1.010219</td>\n",
       "    </tr>\n",
       "    <tr>\n",
       "      <th>min</th>\n",
       "      <td>0.000000</td>\n",
       "    </tr>\n",
       "    <tr>\n",
       "      <th>25%</th>\n",
       "      <td>1.000000</td>\n",
       "    </tr>\n",
       "    <tr>\n",
       "      <th>50%</th>\n",
       "      <td>2.000000</td>\n",
       "    </tr>\n",
       "    <tr>\n",
       "      <th>75%</th>\n",
       "      <td>3.000000</td>\n",
       "    </tr>\n",
       "    <tr>\n",
       "      <th>max</th>\n",
       "      <td>3.500000</td>\n",
       "    </tr>\n",
       "  </tbody>\n",
       "</table>\n",
       "</div>"
      ],
      "text/plain": [
       "           rating\n",
       "count  144.000000\n",
       "mean     1.979167\n",
       "std      1.010219\n",
       "min      0.000000\n",
       "25%      1.000000\n",
       "50%      2.000000\n",
       "75%      3.000000\n",
       "max      3.500000"
      ]
     },
     "execution_count": 3,
     "metadata": {},
     "output_type": "execute_result"
    }
   ],
   "source": [
    "# Solution\n",
    "player_df.describe()"
   ]
  },
  {
   "cell_type": "code",
   "execution_count": 4,
   "id": "a83d531e-48b3-4b08-8bc0-3e92380f429a",
   "metadata": {
    "editable": true,
    "slideshow": {
     "slide_type": ""
    },
    "tags": [
     "solution"
    ]
   },
   "outputs": [
    {
     "data": {
      "text/html": [
       "<div>\n",
       "<style scoped>\n",
       "    .dataframe tbody tr th:only-of-type {\n",
       "        vertical-align: middle;\n",
       "    }\n",
       "\n",
       "    .dataframe tbody tr th {\n",
       "        vertical-align: top;\n",
       "    }\n",
       "\n",
       "    .dataframe thead th {\n",
       "        text-align: right;\n",
       "    }\n",
       "</style>\n",
       "<table border=\"1\" class=\"dataframe\">\n",
       "  <thead>\n",
       "    <tr style=\"text-align: right;\">\n",
       "      <th></th>\n",
       "      <th>game_id</th>\n",
       "      <th>stint_id</th>\n",
       "      <th>h_team</th>\n",
       "      <th>a_team</th>\n",
       "      <th>minutes</th>\n",
       "      <th>h_goals</th>\n",
       "      <th>a_goals</th>\n",
       "      <th>USA_p1</th>\n",
       "      <th>USA_p2</th>\n",
       "      <th>USA_p3</th>\n",
       "      <th>...</th>\n",
       "      <th>Chile_p3</th>\n",
       "      <th>Chile_p4</th>\n",
       "      <th>Chile_p5</th>\n",
       "      <th>Chile_p6</th>\n",
       "      <th>Chile_p7</th>\n",
       "      <th>Chile_p8</th>\n",
       "      <th>Chile_p9</th>\n",
       "      <th>Chile_p10</th>\n",
       "      <th>Chile_p11</th>\n",
       "      <th>Chile_p12</th>\n",
       "    </tr>\n",
       "  </thead>\n",
       "  <tbody>\n",
       "    <tr>\n",
       "      <th>0</th>\n",
       "      <td>1</td>\n",
       "      <td>1</td>\n",
       "      <td>USA</td>\n",
       "      <td>Japan</td>\n",
       "      <td>4.252969</td>\n",
       "      <td>4</td>\n",
       "      <td>9</td>\n",
       "      <td>1</td>\n",
       "      <td>0</td>\n",
       "      <td>1</td>\n",
       "      <td>...</td>\n",
       "      <td>0</td>\n",
       "      <td>0</td>\n",
       "      <td>0</td>\n",
       "      <td>0</td>\n",
       "      <td>0</td>\n",
       "      <td>0</td>\n",
       "      <td>0</td>\n",
       "      <td>0</td>\n",
       "      <td>0</td>\n",
       "      <td>0</td>\n",
       "    </tr>\n",
       "    <tr>\n",
       "      <th>1</th>\n",
       "      <td>1</td>\n",
       "      <td>2</td>\n",
       "      <td>USA</td>\n",
       "      <td>Japan</td>\n",
       "      <td>5.688809</td>\n",
       "      <td>6</td>\n",
       "      <td>11</td>\n",
       "      <td>1</td>\n",
       "      <td>0</td>\n",
       "      <td>0</td>\n",
       "      <td>...</td>\n",
       "      <td>0</td>\n",
       "      <td>0</td>\n",
       "      <td>0</td>\n",
       "      <td>0</td>\n",
       "      <td>0</td>\n",
       "      <td>0</td>\n",
       "      <td>0</td>\n",
       "      <td>0</td>\n",
       "      <td>0</td>\n",
       "      <td>0</td>\n",
       "    </tr>\n",
       "    <tr>\n",
       "      <th>2</th>\n",
       "      <td>1</td>\n",
       "      <td>3</td>\n",
       "      <td>USA</td>\n",
       "      <td>Japan</td>\n",
       "      <td>1.149557</td>\n",
       "      <td>0</td>\n",
       "      <td>1</td>\n",
       "      <td>1</td>\n",
       "      <td>0</td>\n",
       "      <td>0</td>\n",
       "      <td>...</td>\n",
       "      <td>0</td>\n",
       "      <td>0</td>\n",
       "      <td>0</td>\n",
       "      <td>0</td>\n",
       "      <td>0</td>\n",
       "      <td>0</td>\n",
       "      <td>0</td>\n",
       "      <td>0</td>\n",
       "      <td>0</td>\n",
       "      <td>0</td>\n",
       "    </tr>\n",
       "    <tr>\n",
       "      <th>3</th>\n",
       "      <td>1</td>\n",
       "      <td>4</td>\n",
       "      <td>USA</td>\n",
       "      <td>Japan</td>\n",
       "      <td>3.511617</td>\n",
       "      <td>7</td>\n",
       "      <td>5</td>\n",
       "      <td>0</td>\n",
       "      <td>1</td>\n",
       "      <td>0</td>\n",
       "      <td>...</td>\n",
       "      <td>0</td>\n",
       "      <td>0</td>\n",
       "      <td>0</td>\n",
       "      <td>0</td>\n",
       "      <td>0</td>\n",
       "      <td>0</td>\n",
       "      <td>0</td>\n",
       "      <td>0</td>\n",
       "      <td>0</td>\n",
       "      <td>0</td>\n",
       "    </tr>\n",
       "    <tr>\n",
       "      <th>4</th>\n",
       "      <td>1</td>\n",
       "      <td>5</td>\n",
       "      <td>USA</td>\n",
       "      <td>Japan</td>\n",
       "      <td>2.163139</td>\n",
       "      <td>7</td>\n",
       "      <td>5</td>\n",
       "      <td>0</td>\n",
       "      <td>0</td>\n",
       "      <td>0</td>\n",
       "      <td>...</td>\n",
       "      <td>0</td>\n",
       "      <td>0</td>\n",
       "      <td>0</td>\n",
       "      <td>0</td>\n",
       "      <td>0</td>\n",
       "      <td>0</td>\n",
       "      <td>0</td>\n",
       "      <td>0</td>\n",
       "      <td>0</td>\n",
       "      <td>0</td>\n",
       "    </tr>\n",
       "  </tbody>\n",
       "</table>\n",
       "<p>5 rows × 151 columns</p>\n",
       "</div>"
      ],
      "text/plain": [
       "   game_id  stint_id h_team a_team   minutes  h_goals  a_goals  USA_p1  \\\n",
       "0        1         1    USA  Japan  4.252969        4        9       1   \n",
       "1        1         2    USA  Japan  5.688809        6       11       1   \n",
       "2        1         3    USA  Japan  1.149557        0        1       1   \n",
       "3        1         4    USA  Japan  3.511617        7        5       0   \n",
       "4        1         5    USA  Japan  2.163139        7        5       0   \n",
       "\n",
       "   USA_p2  USA_p3  ...  Chile_p3  Chile_p4  Chile_p5  Chile_p6  Chile_p7  \\\n",
       "0       0       1  ...         0         0         0         0         0   \n",
       "1       0       0  ...         0         0         0         0         0   \n",
       "2       0       0  ...         0         0         0         0         0   \n",
       "3       1       0  ...         0         0         0         0         0   \n",
       "4       0       0  ...         0         0         0         0         0   \n",
       "\n",
       "   Chile_p8  Chile_p9  Chile_p10  Chile_p11  Chile_p12  \n",
       "0         0         0          0          0          0  \n",
       "1         0         0          0          0          0  \n",
       "2         0         0          0          0          0  \n",
       "3         0         0          0          0          0  \n",
       "4         0         0          0          0          0  \n",
       "\n",
       "[5 rows x 151 columns]"
      ]
     },
     "execution_count": 4,
     "metadata": {},
     "output_type": "execute_result"
    }
   ],
   "source": [
    "# Solution\n",
    "stint_wide_df.head()"
   ]
  },
  {
   "cell_type": "code",
   "execution_count": 5,
   "id": "c68095fd-bb59-4746-9eb5-e840768ce381",
   "metadata": {
    "editable": true,
    "slideshow": {
     "slide_type": ""
    },
    "tags": [
     "solution"
    ]
   },
   "outputs": [
    {
     "data": {
      "text/html": [
       "<div>\n",
       "<style scoped>\n",
       "    .dataframe tbody tr th:only-of-type {\n",
       "        vertical-align: middle;\n",
       "    }\n",
       "\n",
       "    .dataframe tbody tr th {\n",
       "        vertical-align: top;\n",
       "    }\n",
       "\n",
       "    .dataframe thead th {\n",
       "        text-align: right;\n",
       "    }\n",
       "</style>\n",
       "<table border=\"1\" class=\"dataframe\">\n",
       "  <thead>\n",
       "    <tr style=\"text-align: right;\">\n",
       "      <th></th>\n",
       "      <th>minutes</th>\n",
       "      <th>h_goals</th>\n",
       "      <th>a_goals</th>\n",
       "    </tr>\n",
       "  </thead>\n",
       "  <tbody>\n",
       "    <tr>\n",
       "      <th>count</th>\n",
       "      <td>7448.000000</td>\n",
       "      <td>7448.000000</td>\n",
       "      <td>7448.000000</td>\n",
       "    </tr>\n",
       "    <tr>\n",
       "      <th>mean</th>\n",
       "      <td>2.843314</td>\n",
       "      <td>4.494898</td>\n",
       "      <td>4.253088</td>\n",
       "    </tr>\n",
       "    <tr>\n",
       "      <th>std</th>\n",
       "      <td>1.631194</td>\n",
       "      <td>3.548051</td>\n",
       "      <td>3.411053</td>\n",
       "    </tr>\n",
       "    <tr>\n",
       "      <th>min</th>\n",
       "      <td>0.001582</td>\n",
       "      <td>0.000000</td>\n",
       "      <td>0.000000</td>\n",
       "    </tr>\n",
       "    <tr>\n",
       "      <th>25%</th>\n",
       "      <td>1.622875</td>\n",
       "      <td>2.000000</td>\n",
       "      <td>2.000000</td>\n",
       "    </tr>\n",
       "    <tr>\n",
       "      <th>50%</th>\n",
       "      <td>2.582959</td>\n",
       "      <td>4.000000</td>\n",
       "      <td>3.000000</td>\n",
       "    </tr>\n",
       "    <tr>\n",
       "      <th>75%</th>\n",
       "      <td>3.765502</td>\n",
       "      <td>6.000000</td>\n",
       "      <td>6.000000</td>\n",
       "    </tr>\n",
       "    <tr>\n",
       "      <th>max</th>\n",
       "      <td>8.000000</td>\n",
       "      <td>24.000000</td>\n",
       "      <td>23.000000</td>\n",
       "    </tr>\n",
       "  </tbody>\n",
       "</table>\n",
       "</div>"
      ],
      "text/plain": [
       "           minutes      h_goals      a_goals\n",
       "count  7448.000000  7448.000000  7448.000000\n",
       "mean      2.843314     4.494898     4.253088\n",
       "std       1.631194     3.548051     3.411053\n",
       "min       0.001582     0.000000     0.000000\n",
       "25%       1.622875     2.000000     2.000000\n",
       "50%       2.582959     4.000000     3.000000\n",
       "75%       3.765502     6.000000     6.000000\n",
       "max       8.000000    24.000000    23.000000"
      ]
     },
     "execution_count": 5,
     "metadata": {},
     "output_type": "execute_result"
    }
   ],
   "source": [
    "# Solution\n",
    "stint_wide_df[['minutes', 'h_goals', 'a_goals']].describe()"
   ]
  },
  {
   "cell_type": "code",
   "execution_count": 6,
   "id": "bd784050-3a9c-41d4-b225-159b395874ee",
   "metadata": {
    "editable": true,
    "slideshow": {
     "slide_type": ""
    },
    "tags": [
     "solution"
    ]
   },
   "outputs": [
    {
     "data": {
      "text/html": [
       "<div>\n",
       "<style scoped>\n",
       "    .dataframe tbody tr th:only-of-type {\n",
       "        vertical-align: middle;\n",
       "    }\n",
       "\n",
       "    .dataframe tbody tr th {\n",
       "        vertical-align: top;\n",
       "    }\n",
       "\n",
       "    .dataframe thead th {\n",
       "        text-align: right;\n",
       "    }\n",
       "</style>\n",
       "<table border=\"1\" class=\"dataframe\">\n",
       "  <thead>\n",
       "    <tr style=\"text-align: right;\">\n",
       "      <th></th>\n",
       "      <th>game_id</th>\n",
       "      <th>stint_id</th>\n",
       "      <th>h_team</th>\n",
       "      <th>a_team</th>\n",
       "      <th>minutes</th>\n",
       "      <th>h_goals</th>\n",
       "      <th>a_goals</th>\n",
       "      <th>player</th>\n",
       "      <th>player_home_away</th>\n",
       "    </tr>\n",
       "  </thead>\n",
       "  <tbody>\n",
       "    <tr>\n",
       "      <th>0</th>\n",
       "      <td>1</td>\n",
       "      <td>1</td>\n",
       "      <td>USA</td>\n",
       "      <td>Japan</td>\n",
       "      <td>4.252969</td>\n",
       "      <td>4</td>\n",
       "      <td>9</td>\n",
       "      <td>USA_p1</td>\n",
       "      <td>1</td>\n",
       "    </tr>\n",
       "    <tr>\n",
       "      <th>1</th>\n",
       "      <td>1</td>\n",
       "      <td>1</td>\n",
       "      <td>USA</td>\n",
       "      <td>Japan</td>\n",
       "      <td>4.252969</td>\n",
       "      <td>4</td>\n",
       "      <td>9</td>\n",
       "      <td>USA_p3</td>\n",
       "      <td>1</td>\n",
       "    </tr>\n",
       "    <tr>\n",
       "      <th>2</th>\n",
       "      <td>1</td>\n",
       "      <td>1</td>\n",
       "      <td>USA</td>\n",
       "      <td>Japan</td>\n",
       "      <td>4.252969</td>\n",
       "      <td>4</td>\n",
       "      <td>9</td>\n",
       "      <td>USA_p4</td>\n",
       "      <td>1</td>\n",
       "    </tr>\n",
       "    <tr>\n",
       "      <th>3</th>\n",
       "      <td>1</td>\n",
       "      <td>1</td>\n",
       "      <td>USA</td>\n",
       "      <td>Japan</td>\n",
       "      <td>4.252969</td>\n",
       "      <td>4</td>\n",
       "      <td>9</td>\n",
       "      <td>USA_p6</td>\n",
       "      <td>1</td>\n",
       "    </tr>\n",
       "    <tr>\n",
       "      <th>4</th>\n",
       "      <td>1</td>\n",
       "      <td>1</td>\n",
       "      <td>USA</td>\n",
       "      <td>Japan</td>\n",
       "      <td>4.252969</td>\n",
       "      <td>4</td>\n",
       "      <td>9</td>\n",
       "      <td>Japan_p4</td>\n",
       "      <td>-1</td>\n",
       "    </tr>\n",
       "  </tbody>\n",
       "</table>\n",
       "</div>"
      ],
      "text/plain": [
       "   game_id  stint_id h_team a_team   minutes  h_goals  a_goals    player  \\\n",
       "0        1         1    USA  Japan  4.252969        4        9    USA_p1   \n",
       "1        1         1    USA  Japan  4.252969        4        9    USA_p3   \n",
       "2        1         1    USA  Japan  4.252969        4        9    USA_p4   \n",
       "3        1         1    USA  Japan  4.252969        4        9    USA_p6   \n",
       "4        1         1    USA  Japan  4.252969        4        9  Japan_p4   \n",
       "\n",
       "   player_home_away  \n",
       "0                 1  \n",
       "1                 1  \n",
       "2                 1  \n",
       "3                 1  \n",
       "4                -1  "
      ]
     },
     "execution_count": 6,
     "metadata": {},
     "output_type": "execute_result"
    }
   ],
   "source": [
    "# Solution\n",
    "stint_long_df.head()"
   ]
  },
  {
   "cell_type": "code",
   "execution_count": 7,
   "id": "f08e59a2-a2b4-4197-86c0-ebe00a5cd8f9",
   "metadata": {
    "editable": true,
    "slideshow": {
     "slide_type": ""
    },
    "tags": [
     "solution"
    ]
   },
   "outputs": [
    {
     "data": {
      "text/html": [
       "<div>\n",
       "<style scoped>\n",
       "    .dataframe tbody tr th:only-of-type {\n",
       "        vertical-align: middle;\n",
       "    }\n",
       "\n",
       "    .dataframe tbody tr th {\n",
       "        vertical-align: top;\n",
       "    }\n",
       "\n",
       "    .dataframe thead th {\n",
       "        text-align: right;\n",
       "    }\n",
       "</style>\n",
       "<table border=\"1\" class=\"dataframe\">\n",
       "  <thead>\n",
       "    <tr style=\"text-align: right;\">\n",
       "      <th></th>\n",
       "      <th>minutes</th>\n",
       "      <th>h_goals</th>\n",
       "      <th>a_goals</th>\n",
       "    </tr>\n",
       "  </thead>\n",
       "  <tbody>\n",
       "    <tr>\n",
       "      <th>count</th>\n",
       "      <td>59584.000000</td>\n",
       "      <td>59584.000000</td>\n",
       "      <td>59584.000000</td>\n",
       "    </tr>\n",
       "    <tr>\n",
       "      <th>mean</th>\n",
       "      <td>2.843314</td>\n",
       "      <td>4.494898</td>\n",
       "      <td>4.253088</td>\n",
       "    </tr>\n",
       "    <tr>\n",
       "      <th>std</th>\n",
       "      <td>1.631098</td>\n",
       "      <td>3.547843</td>\n",
       "      <td>3.410852</td>\n",
       "    </tr>\n",
       "    <tr>\n",
       "      <th>min</th>\n",
       "      <td>0.001582</td>\n",
       "      <td>0.000000</td>\n",
       "      <td>0.000000</td>\n",
       "    </tr>\n",
       "    <tr>\n",
       "      <th>25%</th>\n",
       "      <td>1.622875</td>\n",
       "      <td>2.000000</td>\n",
       "      <td>2.000000</td>\n",
       "    </tr>\n",
       "    <tr>\n",
       "      <th>50%</th>\n",
       "      <td>2.582959</td>\n",
       "      <td>4.000000</td>\n",
       "      <td>3.000000</td>\n",
       "    </tr>\n",
       "    <tr>\n",
       "      <th>75%</th>\n",
       "      <td>3.765502</td>\n",
       "      <td>6.000000</td>\n",
       "      <td>6.000000</td>\n",
       "    </tr>\n",
       "    <tr>\n",
       "      <th>max</th>\n",
       "      <td>8.000000</td>\n",
       "      <td>24.000000</td>\n",
       "      <td>23.000000</td>\n",
       "    </tr>\n",
       "  </tbody>\n",
       "</table>\n",
       "</div>"
      ],
      "text/plain": [
       "            minutes       h_goals       a_goals\n",
       "count  59584.000000  59584.000000  59584.000000\n",
       "mean       2.843314      4.494898      4.253088\n",
       "std        1.631098      3.547843      3.410852\n",
       "min        0.001582      0.000000      0.000000\n",
       "25%        1.622875      2.000000      2.000000\n",
       "50%        2.582959      4.000000      3.000000\n",
       "75%        3.765502      6.000000      6.000000\n",
       "max        8.000000     24.000000     23.000000"
      ]
     },
     "execution_count": 7,
     "metadata": {},
     "output_type": "execute_result"
    }
   ],
   "source": [
    "# Solution\n",
    "stint_long_df[['minutes', 'h_goals', 'a_goals']].describe()"
   ]
  },
  {
   "cell_type": "markdown",
   "id": "ed259095-6359-4e83-b8f2-82ed96d9cbb0",
   "metadata": {},
   "source": [
    "## Data wrangling"
   ]
  },
  {
   "cell_type": "markdown",
   "id": "de5a1578-ec63-4add-9c7f-12960b6ce5fe",
   "metadata": {},
   "source": [
    "Recall that Ming wants to assign a value to each player based on plus-minus, a primitive performance measure based on stints. As the case describes, the plus-minus for each stint is\n",
    "\n",
    "$$\n",
    "\\text{PM}_{\\text{stint}} = \\frac{\\text{HomeGoals}_{\\text{stint}} - \\text{AwayGoals}_{\\text{stint}}}{\\text{Duration}_{\\text{stint}}}\n",
    "$$\n",
    "\n",
    "Wrangle the data to compute the plus-minus for each stint."
   ]
  },
  {
   "cell_type": "code",
   "execution_count": null,
   "id": "47021d0d-8022-485f-a14b-0ceba076adfe",
   "metadata": {},
   "outputs": [],
   "source": []
  },
  {
   "cell_type": "code",
   "execution_count": 8,
   "id": "bc454828-0a49-485f-a58d-e7b2c5817e30",
   "metadata": {
    "editable": true,
    "slideshow": {
     "slide_type": ""
    },
    "tags": [
     "solution"
    ]
   },
   "outputs": [],
   "source": [
    "# Solution\n",
    "stint_wide_df['pm'] = (stint_wide_df['h_goals'] - stint_wide_df['a_goals']) / stint_wide_df['minutes']"
   ]
  },
  {
   "cell_type": "markdown",
   "id": "5a473a97-5b9c-4389-b4fe-584b5d72104c",
   "metadata": {},
   "source": [
    "We could do something similar to compute a plus-minus for each player:\n",
    "\n",
    "$$\n",
    "\\text{PM}_{\\text{player}} = \\frac{\\displaystyle\\sum_{\\text{stint: player plays during stint}} (\\text{HomeGoals}_{\\text{stint}} - \\text{AwayGoals}_{\\text{stint}})}{\\displaystyle\\sum_{\\text{stint: player plays during stint}} \\text{Duration}_{\\text{stint}}} \n",
    "$$"
   ]
  },
  {
   "cell_type": "code",
   "execution_count": null,
   "id": "ef2e69ab-5ac0-4cfb-b514-ece5b7eadf9a",
   "metadata": {},
   "outputs": [],
   "source": []
  },
  {
   "cell_type": "code",
   "execution_count": 9,
   "id": "644bdb3c-6010-465e-9a19-ab614fe39c7c",
   "metadata": {
    "editable": true,
    "slideshow": {
     "slide_type": ""
    },
    "tags": [
     "solution"
    ]
   },
   "outputs": [],
   "source": [
    "# Solution\n",
    "player_game_df = (\n",
    "    stint_long_df\n",
    "    .groupby('player')\n",
    "    .agg(\n",
    "        minutes=('minutes', 'sum'),\n",
    "        h_goals=('h_goals', 'sum'),\n",
    "        a_goals=('a_goals', 'sum')\n",
    "    )\n",
    "    .reset_index()\n",
    ")\n",
    "\n",
    "player_game_df['player_pm'] = (player_game_df['h_goals'] - player_game_df['a_goals']) / player_game_df['minutes']"
   ]
  },
  {
   "cell_type": "code",
   "execution_count": 10,
   "id": "9925b846-4590-4132-9a75-931d415abdee",
   "metadata": {
    "editable": true,
    "slideshow": {
     "slide_type": ""
    },
    "tags": [
     "solution"
    ]
   },
   "outputs": [
    {
     "data": {
      "text/html": [
       "<div>\n",
       "<style scoped>\n",
       "    .dataframe tbody tr th:only-of-type {\n",
       "        vertical-align: middle;\n",
       "    }\n",
       "\n",
       "    .dataframe tbody tr th {\n",
       "        vertical-align: top;\n",
       "    }\n",
       "\n",
       "    .dataframe thead th {\n",
       "        text-align: right;\n",
       "    }\n",
       "</style>\n",
       "<table border=\"1\" class=\"dataframe\">\n",
       "  <thead>\n",
       "    <tr style=\"text-align: right;\">\n",
       "      <th></th>\n",
       "      <th>player</th>\n",
       "      <th>rating</th>\n",
       "      <th>minutes</th>\n",
       "      <th>h_goals</th>\n",
       "      <th>a_goals</th>\n",
       "      <th>player_pm</th>\n",
       "    </tr>\n",
       "  </thead>\n",
       "  <tbody>\n",
       "    <tr>\n",
       "      <th>0</th>\n",
       "      <td>USA_p1</td>\n",
       "      <td>3.0</td>\n",
       "      <td>1155.774143</td>\n",
       "      <td>1769</td>\n",
       "      <td>1767</td>\n",
       "      <td>0.001730</td>\n",
       "    </tr>\n",
       "    <tr>\n",
       "      <th>1</th>\n",
       "      <td>USA_p2</td>\n",
       "      <td>3.0</td>\n",
       "      <td>1067.953325</td>\n",
       "      <td>1686</td>\n",
       "      <td>1579</td>\n",
       "      <td>0.100192</td>\n",
       "    </tr>\n",
       "    <tr>\n",
       "      <th>2</th>\n",
       "      <td>USA_p3</td>\n",
       "      <td>3.5</td>\n",
       "      <td>888.478357</td>\n",
       "      <td>1348</td>\n",
       "      <td>1389</td>\n",
       "      <td>-0.046146</td>\n",
       "    </tr>\n",
       "    <tr>\n",
       "      <th>3</th>\n",
       "      <td>USA_p4</td>\n",
       "      <td>0.0</td>\n",
       "      <td>1421.401843</td>\n",
       "      <td>2280</td>\n",
       "      <td>2138</td>\n",
       "      <td>0.099901</td>\n",
       "    </tr>\n",
       "    <tr>\n",
       "      <th>4</th>\n",
       "      <td>USA_p5</td>\n",
       "      <td>2.0</td>\n",
       "      <td>1039.289768</td>\n",
       "      <td>1661</td>\n",
       "      <td>1483</td>\n",
       "      <td>0.171271</td>\n",
       "    </tr>\n",
       "  </tbody>\n",
       "</table>\n",
       "</div>"
      ],
      "text/plain": [
       "   player  rating      minutes  h_goals  a_goals  player_pm\n",
       "0  USA_p1     3.0  1155.774143     1769     1767   0.001730\n",
       "1  USA_p2     3.0  1067.953325     1686     1579   0.100192\n",
       "2  USA_p3     3.5   888.478357     1348     1389  -0.046146\n",
       "3  USA_p4     0.0  1421.401843     2280     2138   0.099901\n",
       "4  USA_p5     2.0  1039.289768     1661     1483   0.171271"
      ]
     },
     "execution_count": 10,
     "metadata": {},
     "output_type": "execute_result"
    }
   ],
   "source": [
    "# Solution\n",
    "player_all_df = player_df.merge(player_game_df, on='player', how='left')\n",
    "player_all_df.head()"
   ]
  },
  {
   "cell_type": "markdown",
   "id": "91f66e10-a06b-43b7-b24c-08da7ab35b05",
   "metadata": {},
   "source": [
    "## Exploratory data analysis"
   ]
  },
  {
   "cell_type": "markdown",
   "id": "8da3d316-ead2-4876-8d6a-f08a71a61725",
   "metadata": {},
   "source": [
    "Exploratory data analysis helps us uncover patterns and identify the underlying relationships in the data.\n",
    "Ultimately, our goal is to produce analysis and visualizations that provide insight into our formal modeling process (e.g., regression, optimization, simulation).\n",
    "\n",
    "What insights can you gather about the stint plus-minus ratings? What about the player plus-minus ratings?"
   ]
  },
  {
   "cell_type": "code",
   "execution_count": null,
   "id": "2dbd9aae-f5f5-4387-a0ea-53a1ae453587",
   "metadata": {},
   "outputs": [],
   "source": []
  },
  {
   "cell_type": "code",
   "execution_count": 11,
   "id": "b91c8fec-cdfb-4047-b6f9-a5f6ff7878ce",
   "metadata": {
    "editable": true,
    "slideshow": {
     "slide_type": ""
    },
    "tags": [
     "solution"
    ]
   },
   "outputs": [
    {
     "data": {
      "image/png": "[encoded data removed]",
      "text/plain": [
       "<Figure size 640x480 with 1 Axes>"
      ]
     },
     "metadata": {},
     "output_type": "display_data"
    }
   ],
   "source": [
    "# Solution\n",
    "bins = np.linspace(0, 8, 8)\n",
    "plt.hist(stint_wide_df['minutes'], bins)\n",
    "plt.title('Distribution of minutes per stint')\n",
    "plt.xlabel('Minutes')\n",
    "plt.ylabel('Frequency')\n",
    "plt.show()"
   ]
  },
  {
   "cell_type": "code",
   "execution_count": 12,
   "id": "45903ad0-ed9f-46c1-a12b-89e1a82d3d33",
   "metadata": {
    "editable": true,
    "slideshow": {
     "slide_type": ""
    },
    "tags": [
     "solution"
    ]
   },
   "outputs": [
    {
     "data": {
      "text/plain": [
       "count    7448.000000\n",
       "mean        0.091035\n",
       "std         1.559537\n",
       "min       -30.972995\n",
       "25%        -0.790877\n",
       "50%         0.000000\n",
       "75%         0.950508\n",
       "max        31.234842\n",
       "Name: pm, dtype: float64"
      ]
     },
     "execution_count": 12,
     "metadata": {},
     "output_type": "execute_result"
    }
   ],
   "source": [
    "# Solution\n",
    "stint_wide_df['pm'].describe()"
   ]
  },
  {
   "cell_type": "code",
   "execution_count": 13,
   "id": "a935308f-8809-4be3-94e3-85f86bdef99d",
   "metadata": {
    "editable": true,
    "slideshow": {
     "slide_type": ""
    },
    "tags": [
     "solution"
    ]
   },
   "outputs": [
    {
     "data": {
      "image/png": "[encoded data removed]",
      "text/plain": [
       "<Figure size 640x480 with 1 Axes>"
      ]
     },
     "metadata": {},
     "output_type": "display_data"
    }
   ],
   "source": [
    "# Solution\n",
    "bins = np.linspace(-1, 1, 20)\n",
    "plt.hist(stint_wide_df['pm'], bins)\n",
    "plt.title('Distribution of stint plus-minus')\n",
    "plt.xlabel('Stint plus-minus')\n",
    "plt.ylabel('Frequency')\n",
    "plt.show()"
   ]
  },
  {
   "cell_type": "code",
   "execution_count": 14,
   "id": "97ae8354-1836-47ed-8f0d-acc8c16b1efb",
   "metadata": {
    "editable": true,
    "slideshow": {
     "slide_type": ""
    },
    "tags": [
     "solution"
    ]
   },
   "outputs": [
    {
     "data": {
      "text/plain": [
       "count    144.000000\n",
       "mean       0.083440\n",
       "std        0.057011\n",
       "min       -0.073543\n",
       "25%        0.048260\n",
       "50%        0.091100\n",
       "75%        0.121610\n",
       "max        0.224428\n",
       "Name: player_pm, dtype: float64"
      ]
     },
     "execution_count": 14,
     "metadata": {},
     "output_type": "execute_result"
    }
   ],
   "source": [
    "# Solution\n",
    "player_game_df['player_pm'].describe()"
   ]
  },
  {
   "cell_type": "code",
   "execution_count": 15,
   "id": "a799c83a-eacb-4d32-9cfe-ae7f4542c752",
   "metadata": {
    "editable": true,
    "slideshow": {
     "slide_type": ""
    },
    "tags": [
     "solution"
    ]
   },
   "outputs": [
    {
     "data": {
      "image/png": "[encoded data removed]",
      "text/plain": [
       "<Figure size 640x480 with 1 Axes>"
      ]
     },
     "metadata": {},
     "output_type": "display_data"
    }
   ],
   "source": [
    "# Solution\n",
    "bins = np.linspace(-0.1, 0.3, 10)\n",
    "plt.hist(player_game_df['player_pm'], bins)\n",
    "plt.title('Distribution of player plus-minus')\n",
    "plt.xlabel('Player plus-minus')\n",
    "plt.ylabel('Frequency')\n",
    "plt.show()"
   ]
  },
  {
   "cell_type": "code",
   "execution_count": 16,
   "id": "f0c16e1d-4c8e-408c-a0fe-1233ec9cf620",
   "metadata": {
    "editable": true,
    "slideshow": {
     "slide_type": ""
    },
    "tags": [
     "solution"
    ]
   },
   "outputs": [
    {
     "data": {
      "image/png": "[encoded data removed]",
      "text/plain": [
       "<Figure size 640x480 with 1 Axes>"
      ]
     },
     "metadata": {},
     "output_type": "display_data"
    }
   ],
   "source": [
    "# Solution\n",
    "plt.scatter(player_all_df['rating'], player_all_df['player_pm'])\n",
    "plt.title('Player rating vs. player plus-minus')\n",
    "plt.xlabel('Player rating')\n",
    "plt.ylabel('Player plus-minus')\n",
    "plt.show()"
   ]
  }
 ],
 "metadata": {
  "kernelspec": {
   "display_name": "Python 3 (ipykernel)",
   "language": "python",
   "name": "python3"
  },
  "language_info": {
   "codemirror_mode": {
    "name": "ipython",
    "version": 3
   },
   "file_extension": ".py",
   "mimetype": "text/x-python",
   "name": "python",
   "nbconvert_exporter": "python",
   "pygments_lexer": "ipython3",
   "version": "3.11.6"
  }
 },
 "nbformat": 4,
 "nbformat_minor": 5
}
