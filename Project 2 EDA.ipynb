{
 "cells": [
  {
   "cell_type": "markdown",
   "id": "d512bef7-2e20-4aa3-a712-ff2b612779a9",
   "metadata": {
    "editable": true,
    "slideshow": {
     "slide_type": ""
    },
    "tags": []
   },
   "source": [
    "**Operations Research in Action &#x25aa; Fall 2024**"
   ]
  },
  {
   "cell_type": "markdown",
   "id": "ea6bc8f1-0640-4143-86bf-ae71e4523087",
   "metadata": {
    "editable": true,
    "slideshow": {
     "slide_type": ""
    },
    "tags": []
   },
   "source": [
    "# Project 2 &ndash; Exploratory Data Analysis"
   ]
  },
  {
   "cell_type": "markdown",
   "id": "b9f2b7a0-ba8c-46c4-b032-ff5205d3bbad",
   "metadata": {
    "editable": true,
    "slideshow": {
     "slide_type": ""
    },
    "tags": []
   },
   "source": [
    "Before we begin modeling, we need to understand the data that we have, conduct an exploratory analysis to understand the underlying relationships, and if necessary, wrangle the data into the right form for modeling."
   ]
  },
  {
   "cell_type": "markdown",
   "id": "9780409d-56ea-4e54-9cf7-7d78fa0deca9",
   "metadata": {
    "editable": true,
    "slideshow": {
     "slide_type": ""
    },
    "tags": []
   },
   "source": [
    "## Import the data "
   ]
  },
  {
   "cell_type": "markdown",
   "id": "6ab0f3bf-1592-4830-ba7e-8e4be8ef5e29",
   "metadata": {
    "editable": true,
    "slideshow": {
     "slide_type": ""
    },
    "tags": []
   },
   "source": [
    "In the same folder as this notebook, there are three data sets, `data/player_data.csv`, `data/stint_data_wide.csv`, and `data/stint_data_long.csv`. Import each data set into a Pandas DataFrame. "
   ]
  },
  {
   "cell_type": "code",
   "execution_count": null,
   "id": "9d3bc978-61dd-4fc7-b660-53ebe457b48b",
   "metadata": {},
   "outputs": [],
   "source": []
  },
  {
   "cell_type": "markdown",
   "id": "5a731657-dbad-4812-b295-d1e146790b45",
   "metadata": {
    "editable": true,
    "slideshow": {
     "slide_type": ""
    },
    "tags": []
   },
   "source": [
    "## Describe the data"
   ]
  },
  {
   "cell_type": "markdown",
   "id": "cd20121c-341c-4c17-9d7e-fd241ae69486",
   "metadata": {
    "editable": true,
    "slideshow": {
     "slide_type": ""
    },
    "tags": []
   },
   "source": [
    "Recall that the data section of your report should describe each data set. For tabular data, this includes the size of the data, as well as what each row and column represents. The data section also should report basic summary statistics for key variables of interest. \n",
    "\n",
    "Examine the three data sets you imported above. How big is the data set? What does each row represent? For each row, what information does the data set contain? Compute basic summary statistics (e.g., mean, standard deviation, minimum, maximum) for some key variables of interest."
   ]
  },
  {
   "cell_type": "code",
   "execution_count": null,
   "id": "2a0e920f-2f46-41df-8f2c-c505f2cc55bc",
   "metadata": {},
   "outputs": [],
   "source": []
  },
  {
   "cell_type": "markdown",
   "id": "ed259095-6359-4e83-b8f2-82ed96d9cbb0",
   "metadata": {},
   "source": [
    "## Data wrangling"
   ]
  },
  {
   "cell_type": "markdown",
   "id": "de5a1578-ec63-4add-9c7f-12960b6ce5fe",
   "metadata": {},
   "source": [
    "Recall that Ming wants to assign a value to each player based on plus-minus, a primitive performance measure based on stints. As the case describes, the plus-minus for each stint is\n",
    "\n",
    "$$\n",
    "\\text{PM}_{\\text{stint}} = \\frac{\\text{HomeGoals}_{\\text{stint}} - \\text{AwayGoals}_{\\text{stint}}}{\\text{Duration}_{\\text{stint}}}\n",
    "$$\n",
    "\n",
    "Wrangle the data to compute the plus-minus for each stint."
   ]
  },
  {
   "cell_type": "code",
   "execution_count": null,
   "id": "47021d0d-8022-485f-a14b-0ceba076adfe",
   "metadata": {},
   "outputs": [],
   "source": []
  },
  {
   "cell_type": "markdown",
   "id": "5a473a97-5b9c-4389-b4fe-584b5d72104c",
   "metadata": {},
   "source": [
    "We could do something similar to compute a plus-minus for each player:\n",
    "\n",
    "$$\n",
    "\\text{PM}_{\\text{player}} = \\frac{\\displaystyle\\sum_{\\text{stint: player plays during stint}} (\\text{HomeGoals}_{\\text{stint}} - \\text{AwayGoals}_{\\text{stint}}) \\cdot \\text{HomeAway}_{\\text{player}, \\text{stint}}}{\\displaystyle\\sum_{\\text{stint: player plays during stint}} \\text{Duration}_{\\text{stint}}} \n",
    "$$\n",
    "\n",
    "where\n",
    "\n",
    "$$\n",
    "\\text{HomeAway}_{\\text{player}, \\text{stint}} = \\begin{cases}\n",
    "+1 & \\text{if player is on the home team during stint} \\\\\n",
    "-1 & \\text{if player is on the away team during stint}\n",
    "\\end{cases}\n",
    "$$"
   ]
  },
  {
   "cell_type": "code",
   "execution_count": null,
   "id": "ef2e69ab-5ac0-4cfb-b514-ece5b7eadf9a",
   "metadata": {},
   "outputs": [],
   "source": []
  },
  {
   "cell_type": "markdown",
   "id": "91f66e10-a06b-43b7-b24c-08da7ab35b05",
   "metadata": {},
   "source": [
    "## Exploratory data analysis"
   ]
  },
  {
   "cell_type": "markdown",
   "id": "8da3d316-ead2-4876-8d6a-f08a71a61725",
   "metadata": {},
   "source": [
    "Exploratory data analysis helps us uncover patterns and identify the underlying relationships in the data.\n",
    "Ultimately, our goal is to produce analysis and visualizations that provide insight into our formal modeling process (e.g., regression, optimization, simulation).\n",
    "\n",
    "What insights can you gather about the stint plus-minus ratings? What about the player plus-minus ratings?"
   ]
  },
  {
   "cell_type": "code",
   "execution_count": null,
   "id": "2dbd9aae-f5f5-4387-a0ea-53a1ae453587",
   "metadata": {},
   "outputs": [],
   "source": []
  }
 ],
 "metadata": {
  "kernelspec": {
   "display_name": "Python 3 (ipykernel)",
   "language": "python",
   "name": "python3"
  },
  "language_info": {
   "codemirror_mode": {
    "name": "ipython",
    "version": 3
   },
   "file_extension": ".py",
   "mimetype": "text/x-python",
   "name": "python",
   "nbconvert_exporter": "python",
   "pygments_lexer": "ipython3",
   "version": "3.11.6"
  }
 },
 "nbformat": 4,
 "nbformat_minor": 5
}
